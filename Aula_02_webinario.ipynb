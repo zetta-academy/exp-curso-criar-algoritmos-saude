{
  "nbformat": 4,
  "nbformat_minor": 0,
  "metadata": {
    "colab": {
      "name": "Aula_02_webinario.ipynb",
      "provenance": [],
      "collapsed_sections": [],
      "toc_visible": true,
      "include_colab_link": true
    },
    "kernelspec": {
      "name": "python3",
      "display_name": "Python 3"
    }
  },
  "cells": [
    {
      "cell_type": "markdown",
      "metadata": {
        "id": "view-in-github",
        "colab_type": "text"
      },
      "source": [
        "<a href=\"https://colab.research.google.com/github/zetta-health/exp-curso-criar-algoritmos-saude/blob/master/Aula_02_webinario.ipynb\" target=\"_parent\"><img src=\"https://colab.research.google.com/assets/colab-badge.svg\" alt=\"Open In Colab\"/></a>"
      ]
    },
    {
      "cell_type": "markdown",
      "metadata": {
        "id": "zXZX4xnZWge3",
        "colab_type": "text"
      },
      "source": [
        " <a href=\"https://www.linkedin.com/company/zetta-health-analytics/\" align=\"center\"><img src=\"https://raw.githubusercontent.com/zetta-health/exp-curso-python-saude/master/assets/zetta-exp-logo.jpg\" width=\"300\" align=\"center\"></a>"
      ]
    },
    {
      "cell_type": "markdown",
      "metadata": {
        "id": "tgu_dHqQ5HT3",
        "colab_type": "text"
      },
      "source": [
        "# **Zetta Exponential - Curso de Introdução ao Python para Gestão da Saúde**\n",
        "# Semana 02 - Tipos de dados, operadores matemáticos, lógicos e relacionais.\n",
        "**Prof. Caio Salgado**\n"
      ]
    },
    {
      "cell_type": "markdown",
      "metadata": {
        "id": "0gD7cHRRz-aU",
        "colab_type": "text"
      },
      "source": [
        "# Objetivos de hoje\n",
        "\n",
        "Nesta aula, você aprenderá:\n",
        "\n",
        "1. Identificar os diferentes tipos de objetos do Python;\n",
        "\n",
        "2. Usar as operações matemáticas e lógicas, combinando com os diferentes tipos de objetos;\n",
        "\n",
        "3. Combinar diferentes tipos de objetos em Python:\n",
        "  - operações matemáticas\n",
        "  - operações relacionais\n",
        "  - operações lógicas\n",
        "  - concatenação \n",
        "  - percorrer\n"
      ]
    },
    {
      "cell_type": "markdown",
      "metadata": {
        "id": "NeSxCFuKXAA4",
        "colab_type": "text"
      },
      "source": [
        "## Antes de começar...\n",
        "\n",
        "1. Uso do [Slack](https://join.slack.com/t/zettahealthanalytics/shared_invite/zt-g5vl1pw0-j6htV5aQKVZa8mfSVX5l9A) e responder o [questionário de avaliação](https://docs.google.com/forms/d/e/1FAIpQLSeCWaz9NyNBb0Hp-C23Y-VQgEQLlJmSvhPDE9PwGttkFks82g/viewform) da semana 1.\n",
        "1. Salve este Colab no seu Google Drive e edite-o junto comigo.\n",
        "2. Dica: use comentários para fazer anotações enquanto você estuda. Você pode usar tanto células em Mardown (Esta aqui é uma) ou Células de código. Se for usar a última, lembre-se de começar com o sinal de '#'."
      ]
    },
    {
      "cell_type": "code",
      "metadata": {
        "id": "lLs-zHTvaEh4",
        "colab_type": "code",
        "colab": {}
      },
      "source": [
        "# Esta é uma célula de código com comentário. Execute-a e nada acontecerá :)"
      ],
      "execution_count": null,
      "outputs": []
    },
    {
      "cell_type": "markdown",
      "metadata": {
        "id": "muBGiLr2XVHN",
        "colab_type": "text"
      },
      "source": [
        "# Tipos de dados no Python\n",
        "\n",
        "Este são os tipos de dados que veremos hoje:\n",
        "  - **int** (Números inteiros)\n",
        "  - **float**\n",
        "  - **bool**\n",
        "  - **String**\n",
        "  - **List** (Listas)\n",
        "  - **Dicionários**"
      ]
    },
    {
      "cell_type": "markdown",
      "metadata": {
        "id": "-pEtj8a5b1Z6",
        "colab_type": "text"
      },
      "source": [
        "## 1 -  Int (Inteiros)"
      ]
    },
    {
      "cell_type": "code",
      "metadata": {
        "id": "bhzFGNQfyq-M",
        "colab_type": "code",
        "colab": {}
      },
      "source": [
        "# 1.1 Tipo int (inteiro)\n",
        "a = 1"
      ],
      "execution_count": null,
      "outputs": []
    },
    {
      "cell_type": "code",
      "metadata": {
        "id": "rv6rTm2Zy7xz",
        "colab_type": "code",
        "colab": {
          "base_uri": "https://localhost:8080/",
          "height": 34
        },
        "outputId": "68cd3ca6-d461-4f33-cc9c-daedb9213cf2"
      },
      "source": [
        "# 1.2 Imprimir a variável 'a'; você pode usar a função 'print' também.\n",
        "a\n",
        "# print(a)"
      ],
      "execution_count": null,
      "outputs": [
        {
          "output_type": "execute_result",
          "data": {
            "text/plain": [
              "1"
            ]
          },
          "metadata": {
            "tags": []
          },
          "execution_count": 3
        }
      ]
    },
    {
      "cell_type": "code",
      "metadata": {
        "id": "gHUK8B5ny-Ql",
        "colab_type": "code",
        "colab": {
          "base_uri": "https://localhost:8080/",
          "height": 34
        },
        "outputId": "02e4f42f-5a4a-4bf5-f9ca-5dec18d0e4f8"
      },
      "source": [
        "# 1.3. Verificar o tipo da variável alocada\n",
        "#      use a função 'type'\n",
        "type(a)"
      ],
      "execution_count": null,
      "outputs": [
        {
          "output_type": "execute_result",
          "data": {
            "text/plain": [
              "int"
            ]
          },
          "metadata": {
            "tags": []
          },
          "execution_count": 4
        }
      ]
    },
    {
      "cell_type": "markdown",
      "metadata": {
        "id": "irRTm1-Wb58Y",
        "colab_type": "text"
      },
      "source": [
        "## 2 - Float"
      ]
    },
    {
      "cell_type": "code",
      "metadata": {
        "id": "cy8Wr-0mzA8a",
        "colab_type": "code",
        "colab": {}
      },
      "source": [
        "# 2.0. Tipo float\n",
        "b = 1.2"
      ],
      "execution_count": null,
      "outputs": []
    },
    {
      "cell_type": "code",
      "metadata": {
        "id": "TV6Dzx3qH3d0",
        "colab_type": "code",
        "colab": {
          "base_uri": "https://localhost:8080/",
          "height": 34
        },
        "outputId": "b659adcd-27c6-4d9c-f11d-d29f97af0c50"
      },
      "source": [
        "# Adicional: você pode usar a função 'round'\n",
        "round(1.2)"
      ],
      "execution_count": null,
      "outputs": [
        {
          "output_type": "execute_result",
          "data": {
            "text/plain": [
              "1"
            ]
          },
          "metadata": {
            "tags": []
          },
          "execution_count": 6
        }
      ]
    },
    {
      "cell_type": "code",
      "metadata": {
        "id": "pOLMrLjEzFgu",
        "colab_type": "code",
        "colab": {
          "base_uri": "https://localhost:8080/",
          "height": 34
        },
        "outputId": "6c0d7aca-d875-45c1-b1a7-faca231db401"
      },
      "source": [
        "# 2.1. Repare a diferença entre 1.2 e 2.1\n",
        "b"
      ],
      "execution_count": null,
      "outputs": [
        {
          "output_type": "execute_result",
          "data": {
            "text/plain": [
              "1.2"
            ]
          },
          "metadata": {
            "tags": []
          },
          "execution_count": 7
        }
      ]
    },
    {
      "cell_type": "code",
      "metadata": {
        "id": "XKQMsJUgzGRS",
        "colab_type": "code",
        "colab": {
          "base_uri": "https://localhost:8080/",
          "height": 34
        },
        "outputId": "16d9eee1-f4b6-4f0c-904d-602627688b53"
      },
      "source": [
        "# 2.2. Qual o tipo da variável 'b'?\n",
        "type(b)"
      ],
      "execution_count": null,
      "outputs": [
        {
          "output_type": "execute_result",
          "data": {
            "text/plain": [
              "float"
            ]
          },
          "metadata": {
            "tags": []
          },
          "execution_count": 8
        }
      ]
    },
    {
      "cell_type": "code",
      "metadata": {
        "id": "VxJ6VC5EzIbo",
        "colab_type": "code",
        "colab": {}
      },
      "source": [
        "# 3.0. Declarar uma variável 'c'.\n",
        "c = 1.0"
      ],
      "execution_count": null,
      "outputs": []
    },
    {
      "cell_type": "code",
      "metadata": {
        "id": "rM-9VhiMAVVk",
        "colab_type": "code",
        "colab": {
          "base_uri": "https://localhost:8080/",
          "height": 34
        },
        "outputId": "8138886d-d816-454c-b674-88bbc0f54953"
      },
      "source": [
        "# Curiosidade. Assim como viver, Floats não são precisas!\n",
        "print(f\"{b:.30f}\") # Você não deve memorizar este código. \n",
        "                   # Ele apenas imprime a variável 'b' com 30 casas decimais."
      ],
      "execution_count": null,
      "outputs": [
        {
          "output_type": "stream",
          "text": [
            "1.199999999999999955591079014994\n"
          ],
          "name": "stdout"
        }
      ]
    },
    {
      "cell_type": "markdown",
      "metadata": {
        "id": "-EpGLSgkbUzF",
        "colab_type": "text"
      },
      "source": [
        "### **Exercício 01**\n",
        "\n",
        "Qual o tipo da variável 'c'?\n",
        "\n",
        "\n",
        "*   Int\n",
        "*   Float\n",
        "\n",
        "Como verificar o tipo da variável usando Python?\n",
        "\n",
        "\n",
        "**Dica**: Veja # 2.2\n"
      ]
    },
    {
      "cell_type": "markdown",
      "metadata": {
        "id": "pcH9YZ4lrU1u",
        "colab_type": "text"
      },
      "source": [
        "### **Desafio 01**\n",
        "\n",
        "Crie uma variável 'd' resultante resultante da soma de um 'int' e um 'float'. Qual o tipo da variável 'd'? \n",
        "\n",
        "*   Int\n",
        "*   Float\n",
        "*   Erro\n",
        "\n",
        "**Dica:** Use a célula de código abaixo para responder ao desafio."
      ]
    },
    {
      "cell_type": "code",
      "metadata": {
        "id": "JzwAfTPxLa0J",
        "colab_type": "code",
        "colab": {}
      },
      "source": [
        "# Seu código aqui:\n"
      ],
      "execution_count": null,
      "outputs": []
    },
    {
      "cell_type": "markdown",
      "metadata": {
        "id": "kMBZmMzv_p25",
        "colab_type": "text"
      },
      "source": [
        "### **Operadores matemáticos**\n",
        "\n",
        "Em Python, podemos acessar funções de calculadora através dos **operadores matemáticos**. \n",
        "\n",
        "É igual à matemática da escola. Por exemplo, em caso de uma expressão numérica, multiplicação e divisão têm prioridade sobre adição e subtração, e operações entre parênteses têm prioridade sobre o resto da expressão.\n",
        "\n",
        "Na tabela abaixo, temos a relação entre as operações e os operadores.\n",
        "\n",
        "Operador | Operação\n",
        "--- | ---\n",
        "+ | Adição\n",
        "- | Subtração\n",
        "* | Multiplicação\n",
        "/ | Divisão\n",
        "// | Divisão Inteira\n",
        "** | Exponencial \n",
        "% | Módulo\n"
      ]
    },
    {
      "cell_type": "code",
      "metadata": {
        "id": "Rc-j6Bi2BdEI",
        "colab_type": "code",
        "colab": {
          "base_uri": "https://localhost:8080/",
          "height": 34
        },
        "outputId": "36e2faad-2f38-4128-ef01-3ae1e710f045"
      },
      "source": [
        "# Divisão\n",
        "10 / 3"
      ],
      "execution_count": null,
      "outputs": [
        {
          "output_type": "execute_result",
          "data": {
            "text/plain": [
              "3.3333333333333335"
            ]
          },
          "metadata": {
            "tags": []
          },
          "execution_count": 20
        }
      ]
    },
    {
      "cell_type": "code",
      "metadata": {
        "id": "YDdF3OHLBihL",
        "colab_type": "code",
        "colab": {
          "base_uri": "https://localhost:8080/",
          "height": 34
        },
        "outputId": "5725ee95-919c-4f34-ea30-3522c0b87c66"
      },
      "source": [
        "# Subtração\n",
        "10 - 15"
      ],
      "execution_count": null,
      "outputs": [
        {
          "output_type": "execute_result",
          "data": {
            "text/plain": [
              "-5"
            ]
          },
          "metadata": {
            "tags": []
          },
          "execution_count": 13
        }
      ]
    },
    {
      "cell_type": "code",
      "metadata": {
        "id": "SqZoCR-hBmku",
        "colab_type": "code",
        "colab": {
          "base_uri": "https://localhost:8080/",
          "height": 34
        },
        "outputId": "dd9dc061-375e-4da7-d247-c8ce1e6ff644"
      },
      "source": [
        "# Exponencial\n",
        "2**4"
      ],
      "execution_count": null,
      "outputs": [
        {
          "output_type": "execute_result",
          "data": {
            "text/plain": [
              "16"
            ]
          },
          "metadata": {
            "tags": []
          },
          "execution_count": 14
        }
      ]
    },
    {
      "cell_type": "code",
      "metadata": {
        "id": "KrJwEC07Cg3Q",
        "colab_type": "code",
        "colab": {
          "base_uri": "https://localhost:8080/",
          "height": 34
        },
        "outputId": "af01186a-c4ca-47fa-e312-95baf5f0308e"
      },
      "source": [
        "# Como vimos na aula passada, para tirar a raiz quadrada podemos usar a  \n",
        "# biblioteca math.\n",
        "import math\n",
        "math.sqrt(16)"
      ],
      "execution_count": null,
      "outputs": [
        {
          "output_type": "execute_result",
          "data": {
            "text/plain": [
              "4.0"
            ]
          },
          "metadata": {
            "tags": []
          },
          "execution_count": 15
        }
      ]
    },
    {
      "cell_type": "markdown",
      "metadata": {
        "id": "31vDSWgkSmYL",
        "colab_type": "text"
      },
      "source": [
        "### **Desafio 02**\n",
        "\n",
        "Qual o resultado da operação abaixo?\n",
        "\n",
        "**Dica:** Consulte a tabela de [operadores matemáticos](https://colab.research.google.com/github/zetta-health/exp-curso-python-saude/blob/master/PySaude_02_python_03_tipos_de_operadores.ipynb#scrollTo=_1K-9jikvNY4)."
      ]
    },
    {
      "cell_type": "code",
      "metadata": {
        "id": "hTpG7E9XSw2d",
        "colab_type": "code",
        "colab": {}
      },
      "source": [
        "(2 + 5) * 10 "
      ],
      "execution_count": null,
      "outputs": []
    },
    {
      "cell_type": "markdown",
      "metadata": {
        "id": "dukHGglIpx90",
        "colab_type": "text"
      },
      "source": [
        "## 3 - Bool (Booleanos)\n",
        "\n",
        "Uma variável **booleana**, ou lógica, é aquela que armazena os valores verdadeiro (**True**) ou falso (**False**)."
      ]
    },
    {
      "cell_type": "code",
      "metadata": {
        "id": "ZXL-2VZDGNh-",
        "colab_type": "code",
        "colab": {
          "base_uri": "https://localhost:8080/",
          "height": 34
        },
        "outputId": "302bd885-fdf5-42be-87bc-5b528ac7c4b9"
      },
      "source": [
        "# Biscoito é certo, bolacha não.\n",
        "True"
      ],
      "execution_count": null,
      "outputs": [
        {
          "output_type": "execute_result",
          "data": {
            "text/plain": [
              "True"
            ]
          },
          "metadata": {
            "tags": []
          },
          "execution_count": 20
        }
      ]
    },
    {
      "cell_type": "code",
      "metadata": {
        "id": "nNgECDNipxN3",
        "colab_type": "code",
        "colab": {
          "base_uri": "https://localhost:8080/",
          "height": 34
        },
        "outputId": "a87b30ef-1a3b-4e9b-882d-9897398db0b1"
      },
      "source": [
        "# NYC é melhor que SP.\n",
        "False"
      ],
      "execution_count": null,
      "outputs": [
        {
          "output_type": "execute_result",
          "data": {
            "text/plain": [
              "False"
            ]
          },
          "metadata": {
            "tags": []
          },
          "execution_count": 22
        }
      ]
    },
    {
      "cell_type": "markdown",
      "metadata": {
        "id": "dozs8kQSa0h7",
        "colab_type": "text"
      },
      "source": [
        "### **Operadores Relacionais**\n",
        "\n",
        "Os **operadores relacionais** são utilizados para estabeler comparações lógicas. Quando aplicados, o resultado é sempre verdadeiro (True) ou falso (False).\n",
        "\n",
        "Operador | Relação \n",
        "--- | ---\n",
        "== | Igualdade\n",
        "!= | Diferença\n",
        "> | maior que \n",
        "< | menor que\n",
        ">= | maior igual que \n",
        "<= | menor igual que "
      ]
    },
    {
      "cell_type": "code",
      "metadata": {
        "id": "qtjqgymEa4Im",
        "colab_type": "code",
        "colab": {}
      },
      "source": [
        "10 > 7"
      ],
      "execution_count": null,
      "outputs": []
    },
    {
      "cell_type": "code",
      "metadata": {
        "id": "rYh0ZVvGa4FN",
        "colab_type": "code",
        "colab": {}
      },
      "source": [
        "# Podemos combinar operadores matemáticos com os operadores relacionais \n",
        "12 + 8 != 2 * 10"
      ],
      "execution_count": null,
      "outputs": []
    },
    {
      "cell_type": "markdown",
      "metadata": {
        "id": "CuQW7cYSbY2P",
        "colab_type": "text"
      },
      "source": [
        "### **Atenção!**\n",
        "\n",
        "Não confundir **operador de atribuição** (`=`) com o sinal que estabelece **comparação** (`==`)."
      ]
    },
    {
      "cell_type": "code",
      "metadata": {
        "id": "dWkzn_Dra4CQ",
        "colab_type": "code",
        "colab": {}
      },
      "source": [
        "minha_idade = 33\n",
        "idade_da_minha_coluna = 80\n",
        "\n",
        "minha_idade == idade_da_minha_coluna"
      ],
      "execution_count": null,
      "outputs": []
    },
    {
      "cell_type": "markdown",
      "metadata": {
        "id": "ruzQ6utzCb9J",
        "colab_type": "text"
      },
      "source": [
        "### **Operadores lógicos**\n",
        "\n",
        "Os **operadores lógicos** servem para combinar operações de verdadeiro (True) e falso (False). No Python, existem três operadores lógicos: **and** (e), **or** (ou) e **not** (não).\n",
        "\n",
        "\n",
        "### ***And***\n",
        "\n",
        "O operador And (e) é um operador de conjunção. Ele só estabelece um resultado verdadeiro quando as duas operações combinadas forem *verdadeiras*.\n",
        "\n",
        "A | B | A *and* B\n",
        "--- | --- | ---\n",
        "False | False | False\n",
        "False | True | False \n",
        "True | False | False \n",
        "True | True | True \n",
        "\n",
        "### ***Or***\n",
        "\n",
        "O operador Or (ou) é um operador de disjunção. O resultado estabelecido por ele só será falso quando ambas as operações combinadas forem *falsas*. Em qualquer outro caso, o resultado será *verdadeiro*.\n",
        "\n",
        "A | B | A *or* B\n",
        "---| ---| ---\n",
        "False | False | False \n",
        "False | True | True \n",
        "True | False | True \n",
        "True | True | True \n",
        "\n",
        "\n",
        "### ***Not***\n",
        "\n",
        "O operador Not (não) é um operador de negação. Ou seja, ele retorna a operação inversa da operação inserida.\n",
        "\n",
        "A | *Not* A\n",
        "---| ---\n",
        "True | False \n",
        "False | True "
      ]
    },
    {
      "cell_type": "markdown",
      "metadata": {
        "id": "GzK0lYtQsF5l",
        "colab_type": "text"
      },
      "source": [
        "### Exercício 02\n",
        "\n",
        "Corrija o código abaixo.\n",
        "Veja se você atende aos requerimentos da triagem para uma vaga de cientista de dados, completando com booleanos (False ou True)"
      ]
    },
    {
      "cell_type": "code",
      "metadata": {
        "id": "SVfk9ZgfGSkY",
        "colab_type": "code",
        "colab": {}
      },
      "source": [
        "# Para uma vaga de emprego você precisar saber Python E fazer cafezinho.\n",
        "fazer_cafezinho =  # complete com bool\n",
        "saber_python    =  # complete com bool\n",
        "\n",
        "print('Passou na triagem da vaga: {}'.format(fazer_cafezinho and saber_python))"
      ],
      "execution_count": null,
      "outputs": []
    },
    {
      "cell_type": "code",
      "metadata": {
        "id": "ZxNxqa_mFj_A",
        "colab_type": "code",
        "colab": {}
      },
      "source": [
        "# Para uma vaga de emprego você precisa saber Python ou R.\n",
        "saber_python = # complete com bool\n",
        "saber_r      = # complete com bool\n",
        "\n",
        "print('Passou na triagem da vaga: {}'.format(saber_r or saber_python))"
      ],
      "execution_count": null,
      "outputs": []
    },
    {
      "cell_type": "markdown",
      "metadata": {
        "id": "r8Dhg_yVW0nX",
        "colab_type": "text"
      },
      "source": [
        "## 4 - Strings\n",
        "\n",
        "**Strings** são **texto**. É possível manipulá-las no Python."
      ]
    },
    {
      "cell_type": "code",
      "metadata": {
        "id": "4nOTt_bvXTzo",
        "colab_type": "code",
        "colab": {
          "base_uri": "https://localhost:8080/",
          "height": 35
        },
        "outputId": "128f4107-b38c-429e-c05d-22d13d8312d9"
      },
      "source": [
        "# Exemplos de texto:\n",
        "verdade_absoluta_01 = 'Navegar é preciso,'\n",
        "verdade_absoluta_02 = \" viver não é preciso.\"\n",
        "\n",
        "# Concatenação de string\n",
        "verdade_absoluta_01 + verdade_absoluta_02"
      ],
      "execution_count": null,
      "outputs": [
        {
          "output_type": "execute_result",
          "data": {
            "application/vnd.google.colaboratory.intrinsic": {
              "type": "string"
            },
            "text/plain": [
              "'Navegar é preciso, viver não é preciso.'"
            ]
          },
          "metadata": {
            "tags": []
          },
          "execution_count": 23
        }
      ]
    },
    {
      "cell_type": "code",
      "metadata": {
        "id": "muU4q-n8Xivs",
        "colab_type": "code",
        "colab": {}
      },
      "source": [
        "# Existem diversas operações que podem ser feitas com strings. Exemplos:\n",
        "texto = 'cabeça,ombro,joelho,pé'\n",
        "\n",
        "# Vamos separar as strings usando o método 'split'\n",
        "texto.split(',')"
      ],
      "execution_count": null,
      "outputs": []
    },
    {
      "cell_type": "code",
      "metadata": {
        "id": "sM_9ElXmXinW",
        "colab_type": "code",
        "colab": {
          "base_uri": "https://localhost:8080/",
          "height": 35
        },
        "outputId": "1f3179a6-8ae7-4445-f1f4-17a870f4411e"
      },
      "source": [
        "# Podemos substituir um trecho da string por outro com o método 'replace'\n",
        "verdade_absoluta_01.replace('Navegar', 'Beber')"
      ],
      "execution_count": null,
      "outputs": [
        {
          "output_type": "execute_result",
          "data": {
            "application/vnd.google.colaboratory.intrinsic": {
              "type": "string"
            },
            "text/plain": [
              "'Beber é preciso,'"
            ]
          },
          "metadata": {
            "tags": []
          },
          "execution_count": 22
        }
      ]
    },
    {
      "cell_type": "markdown",
      "metadata": {
        "id": "uoUdUFiLuTF0",
        "colab_type": "text"
      },
      "source": [
        "## 5 - Listas\n",
        "\n",
        "Uma **lista** é uma **coleção de itens em uma ordem específica**."
      ]
    },
    {
      "cell_type": "code",
      "metadata": {
        "id": "jggfuUVtGFoJ",
        "colab_type": "code",
        "colab": {}
      },
      "source": [
        "# Os elementos de uma lista são definidos entre []\n",
        "nova_lista = []"
      ],
      "execution_count": null,
      "outputs": []
    },
    {
      "cell_type": "code",
      "metadata": {
        "id": "I0h_qsh0AAUl",
        "colab_type": "code",
        "colab": {}
      },
      "source": [
        "# Listas são como células de excel (colunas ou linhas)\n",
        "idades = [1, 2, 4 , 6]"
      ],
      "execution_count": null,
      "outputs": []
    },
    {
      "cell_type": "code",
      "metadata": {
        "id": "q89gt012zXXS",
        "colab_type": "code",
        "colab": {}
      },
      "source": [
        "idades2 = [4, 6.5, 7.7, 9]"
      ],
      "execution_count": null,
      "outputs": []
    },
    {
      "cell_type": "code",
      "metadata": {
        "id": "fk0ZzinczQHY",
        "colab_type": "code",
        "colab": {}
      },
      "source": [
        "# Podemos usar a função 'sum' para somar valores\n",
        "sum(idades)"
      ],
      "execution_count": null,
      "outputs": []
    },
    {
      "cell_type": "code",
      "metadata": {
        "id": "PHMKOxY6__Sm",
        "colab_type": "code",
        "colab": {
          "base_uri": "https://localhost:8080/",
          "height": 34
        },
        "outputId": "6a21c797-b155-42ba-adbb-4af89334fac2"
      },
      "source": [
        "# E com a função 'len', temos o número de elementos da lista\n",
        "len(idades)"
      ],
      "execution_count": null,
      "outputs": [
        {
          "output_type": "execute_result",
          "data": {
            "text/plain": [
              "4"
            ]
          },
          "metadata": {
            "tags": []
          },
          "execution_count": 52
        }
      ]
    },
    {
      "cell_type": "markdown",
      "metadata": {
        "id": "mvsRZsSCUFd8",
        "colab_type": "text"
      },
      "source": [
        "### **Desafio 03**\n",
        "\n",
        "Use as funções 'sum' e 'len' para calcular a média aritmética da lista 'idades'.\n",
        "\n",
        "A média aritmética é a soma dos valores de uma lista dividida pela quantidade de elementos da lista."
      ]
    },
    {
      "cell_type": "code",
      "metadata": {
        "id": "A6sw1Nhi__PZ",
        "colab_type": "code",
        "colab": {}
      },
      "source": [
        "# Sua resposta aqui:\n",
        "media = "
      ],
      "execution_count": null,
      "outputs": []
    },
    {
      "cell_type": "code",
      "metadata": {
        "id": "MlFUYTN_D2UK",
        "colab_type": "code",
        "colab": {
          "base_uri": "https://localhost:8080/",
          "height": 34
        },
        "outputId": "fdf49786-2e9f-43be-fb4b-9d416bfd15ea"
      },
      "source": [
        "# A função 'max' retorna o valor máximo\n",
        "max(idades)"
      ],
      "execution_count": null,
      "outputs": [
        {
          "output_type": "execute_result",
          "data": {
            "text/plain": [
              "6"
            ]
          },
          "metadata": {
            "tags": []
          },
          "execution_count": 82
        }
      ]
    },
    {
      "cell_type": "code",
      "metadata": {
        "id": "Ytk2R6X-D5lR",
        "colab_type": "code",
        "colab": {
          "base_uri": "https://localhost:8080/",
          "height": 34
        },
        "outputId": "fe2ddce3-f50c-4cb7-f924-d63abb1d4ec3"
      },
      "source": [
        "# E a função 'min' retorna o valor mínimo\n",
        "min(idades)"
      ],
      "execution_count": null,
      "outputs": [
        {
          "output_type": "execute_result",
          "data": {
            "text/plain": [
              "1"
            ]
          },
          "metadata": {
            "tags": []
          },
          "execution_count": 83
        }
      ]
    },
    {
      "cell_type": "code",
      "metadata": {
        "id": "UxBPKc6rzuai",
        "colab_type": "code",
        "colab": {}
      },
      "source": [
        "# É possível concatenar (juntar) uma lista a outra.\n",
        "idades3 = idades + idades2"
      ],
      "execution_count": null,
      "outputs": []
    },
    {
      "cell_type": "code",
      "metadata": {
        "id": "3xmj5Ug1_R0n",
        "colab_type": "code",
        "colab": {}
      },
      "source": [
        "idades3 + [3]"
      ],
      "execution_count": null,
      "outputs": []
    },
    {
      "cell_type": "code",
      "metadata": {
        "id": "-1WEvT00_YaN",
        "colab_type": "code",
        "colab": {}
      },
      "source": [
        "# Podemos criar listas de strings também.\n",
        "nomes = ['aluno_1', 'aluno_2', 'aluno_3', 'aluno_4']"
      ],
      "execution_count": null,
      "outputs": []
    },
    {
      "cell_type": "code",
      "metadata": {
        "id": "Ki3oqbfU_ePj",
        "colab_type": "code",
        "colab": {
          "base_uri": "https://localhost:8080/",
          "height": 35
        },
        "outputId": "049edaef-b40f-49f5-b643-d21b82ede71c"
      },
      "source": [
        "# É possível acessar os elementos da lista através de índices.\n",
        "# Atenção! Os índices em python começam em 0.\n",
        "nomes[0]"
      ],
      "execution_count": null,
      "outputs": [
        {
          "output_type": "execute_result",
          "data": {
            "application/vnd.google.colaboratory.intrinsic": {
              "type": "string"
            },
            "text/plain": [
              "'aluno_1'"
            ]
          },
          "metadata": {
            "tags": []
          },
          "execution_count": 84
        }
      ]
    },
    {
      "cell_type": "code",
      "metadata": {
        "id": "TS4eFw9s_ob1",
        "colab_type": "code",
        "colab": {
          "base_uri": "https://localhost:8080/",
          "height": 35
        },
        "outputId": "be29461b-7acc-4dcc-d810-3abcfa144ed0"
      },
      "source": [
        "nomes[2]"
      ],
      "execution_count": null,
      "outputs": [
        {
          "output_type": "execute_result",
          "data": {
            "application/vnd.google.colaboratory.intrinsic": {
              "type": "string"
            },
            "text/plain": [
              "'aluno_3'"
            ]
          },
          "metadata": {
            "tags": []
          },
          "execution_count": 85
        }
      ]
    },
    {
      "cell_type": "markdown",
      "metadata": {
        "id": "wQzzmg3YVYUH",
        "colab_type": "text"
      },
      "source": [
        "### **Slicing**\n",
        "\n",
        "Podemos selecionar apenas trechos de listas utilizando *slicing*.\n",
        "\n",
        "O primeiro valor representa o index do item inicial e o segundo representa onde se encerra. No entanto, o número que encerra o slice não é inclusivo, ou seja, quando o encerramento do slice é em 3, o index do último item será 2, um a menos."
      ]
    },
    {
      "cell_type": "code",
      "metadata": {
        "id": "ldf6lXiWERyN",
        "colab_type": "code",
        "colab": {
          "base_uri": "https://localhost:8080/",
          "height": 34
        },
        "outputId": "2e44153f-651d-49ae-9aa7-1fabe43c543f"
      },
      "source": [
        "# Você pode cortar uma lista usando seus índices\n",
        "nomes[:3]"
      ],
      "execution_count": null,
      "outputs": [
        {
          "output_type": "execute_result",
          "data": {
            "text/plain": [
              "['aluno_1', 'aluno_2', 'aluno_3']"
            ]
          },
          "metadata": {
            "tags": []
          },
          "execution_count": 86
        }
      ]
    },
    {
      "cell_type": "code",
      "metadata": {
        "id": "EY6CrGRVEW4S",
        "colab_type": "code",
        "colab": {
          "base_uri": "https://localhost:8080/",
          "height": 34
        },
        "outputId": "61077cd5-1b24-4f85-9470-773ce39e5126"
      },
      "source": [
        "nomes[2:]"
      ],
      "execution_count": null,
      "outputs": [
        {
          "output_type": "execute_result",
          "data": {
            "text/plain": [
              "['aluno_3', 'aluno_4']"
            ]
          },
          "metadata": {
            "tags": []
          },
          "execution_count": 87
        }
      ]
    },
    {
      "cell_type": "code",
      "metadata": {
        "id": "acKkc_LQWJMX",
        "colab_type": "code",
        "colab": {}
      },
      "source": [
        "# Pode acrescentar valores com o método 'append'\n",
        "meu_nome = 'meu nome' # Substitua os valores entre aspas por seu nome\n",
        "nomes.append(meu_nome)\n",
        "print(nomes)"
      ],
      "execution_count": null,
      "outputs": []
    },
    {
      "cell_type": "markdown",
      "metadata": {
        "id": "lK9IvIRsobWv",
        "colab_type": "text"
      },
      "source": [
        "## 6 - Dicionários \n",
        "\n",
        "**Dicionários** permitem que você estabeleça **conexões entre peças individuais de informação**, como por exemplo palavras (chaves, *keys*) e seus significados (valores, *values*)."
      ]
    },
    {
      "cell_type": "code",
      "metadata": {
        "id": "dwk36HEP-zfB",
        "colab_type": "code",
        "colab": {}
      },
      "source": [
        "# Dicionários são definidos entre {}.\n",
        "dicionario = {}"
      ],
      "execution_count": null,
      "outputs": []
    },
    {
      "cell_type": "code",
      "metadata": {
        "id": "n748JT1c-1jp",
        "colab_type": "code",
        "colab": {}
      },
      "source": [
        "# Podemos adicionar valores ao dicionário\n",
        "dicionario['aluno_1'] = 33"
      ],
      "execution_count": null,
      "outputs": []
    },
    {
      "cell_type": "code",
      "metadata": {
        "id": "MGUnAk3u-4RK",
        "colab_type": "code",
        "colab": {}
      },
      "source": [
        "dicionario['aluno_2'] = 43"
      ],
      "execution_count": null,
      "outputs": []
    },
    {
      "cell_type": "code",
      "metadata": {
        "id": "RV84NptJ-9WM",
        "colab_type": "code",
        "colab": {
          "base_uri": "https://localhost:8080/",
          "height": 34
        },
        "outputId": "ce04d615-807f-4f90-d101-8a95401b5b99"
      },
      "source": [
        "dicionario"
      ],
      "execution_count": null,
      "outputs": [
        {
          "output_type": "execute_result",
          "data": {
            "text/plain": [
              "{'aluno_1': 33, 'aluno_2': 43}"
            ]
          },
          "metadata": {
            "tags": []
          },
          "execution_count": 41
        }
      ]
    },
    {
      "cell_type": "markdown",
      "metadata": {
        "id": "5N75J0jeZ3Lc",
        "colab_type": "text"
      },
      "source": [
        "### Exercício 03\n",
        "\n",
        "Adicione seu nome e idade ao dicionário."
      ]
    },
    {
      "cell_type": "code",
      "metadata": {
        "id": "kH3MkgPLaJPw",
        "colab_type": "code",
        "colab": {}
      },
      "source": [
        "# Sua reposta aqui:"
      ],
      "execution_count": null,
      "outputs": []
    },
    {
      "cell_type": "markdown",
      "metadata": {
        "id": "xiZg_5FzaMoY",
        "colab_type": "text"
      },
      "source": [
        "## **Próxima aula...**"
      ]
    },
    {
      "cell_type": "code",
      "metadata": {
        "id": "xbksFNMT--VD",
        "colab_type": "code",
        "colab": {
          "base_uri": "https://localhost:8080/",
          "height": 87
        },
        "outputId": "cf541cc0-cdac-4ff2-dfd6-76ebd2c10cc7"
      },
      "source": [
        "# Por fim, vamos percorrer os itens de uma lista usando um for loop.\n",
        "for nome in nomes: # Não se preocupe com esse código.\n",
        "  print(nome)      # Veremos como criá-lo na próxima aula!"
      ],
      "execution_count": null,
      "outputs": [
        {
          "output_type": "stream",
          "text": [
            "aluno_1\n",
            "aluno_2\n",
            "aluno_3\n",
            "aluno_4\n"
          ],
          "name": "stdout"
        }
      ]
    },
    {
      "cell_type": "markdown",
      "metadata": {
        "id": "KCzNJtlLdAoc",
        "colab_type": "text"
      },
      "source": [
        "# Muito obrigado!"
      ]
    }
  ]
}